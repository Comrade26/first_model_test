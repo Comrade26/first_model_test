{
 "cells": [
  {
   "cell_type": "code",
   "execution_count": null,
   "metadata": {},
   "outputs": [],
   "source": [
    "import pandas as pd\n",
    "import warnings\n",
    "warnings.filterwarnings('ignore')\n",
    "import numpy as np\n",
    "import matplotlib.pyplot as plt"
   ]
  },
  {
   "cell_type": "code",
   "execution_count": null,
   "metadata": {},
   "outputs": [],
   "source": [
    "df = pd.read_csv(\"https://raw.githubusercontent.com/prasertcbs/basic-dataset/master/usedcars_with_missing_values.csv\")"
   ]
  },
  {
   "cell_type": "code",
   "execution_count": null,
   "metadata": {},
   "outputs": [],
   "source": [
    "df['year'] = df['year'].astype('category')"
   ]
  },
  {
   "cell_type": "code",
   "execution_count": null,
   "metadata": {},
   "outputs": [],
   "source": [
    "df"
   ]
  },
  {
   "attachments": {},
   "cell_type": "markdown",
   "metadata": {},
   "source": [
    "## Clean data"
   ]
  },
  {
   "cell_type": "code",
   "execution_count": null,
   "metadata": {},
   "outputs": [],
   "source": [
    "from sklearn.model_selection import train_test_split, KFold\n",
    "from sklearn.linear_model import LinearRegression\n",
    "from sklearn.metrics import r2_score, root_mean_squared_error\n",
    "import math"
   ]
  },
  {
   "cell_type": "code",
   "execution_count": null,
   "metadata": {},
   "outputs": [],
   "source": [
    "df_dummy = pd.get_dummies(df)\n",
    "df_dummy = df_dummy.dropna()\n",
    "df_dummy = df_dummy.reset_index(drop = True)"
   ]
  },
  {
   "cell_type": "code",
   "execution_count": null,
   "metadata": {},
   "outputs": [],
   "source": [
    "outcomename = 'price'\n",
    "X = df_dummy.drop(columns = outcomename)\n",
    "Y = df_dummy[outcomename]"
   ]
  },
  {
   "cell_type": "code",
   "execution_count": null,
   "metadata": {},
   "outputs": [],
   "source": [
    "class create_model:\n",
    "    def __init__(self, model_name, test_size, X, Y, n_splits=5):\n",
    "        self.model_name = model_name\n",
    "        self.test_size = test_size\n",
    "        self.X = X\n",
    "        self.Y = Y\n",
    "        self.n_splits = n_splits\n",
    "    \n",
    "    def model(self):\n",
    "        kf = KFold(n_splits = self.n_splits, shuffle = True)\n",
    "        scores = []\n",
    "        for train_index, test_index in kf.split(self.X):\n",
    "            self.X_train, self.X_test = self.X.values[train_index], self.X.values[test_index]\n",
    "            self.Y_train, self.Y_test = self.Y.values[train_index], self.Y.values[test_index]\n",
    "            self.model_name.fit(self.X_train, self.Y_train)\n",
    "            scores.append(self.model_name.score(self.X_test, self.Y_test))\n",
    "        self.mean_score = sum(scores) / self.n_splits\n",
    "        return self.model_name\n",
    "    \n",
    "    def score(self):\n",
    "        self.Y_pred = self.model_name.predict(self.X)\n",
    "        self.r2 = r2_score(self.Y, self.Y_pred)\n",
    "        self.Y_predict = self.model_name.predict(self.X_test)\n",
    "        self.rmse = root_mean_squared_error(self.Y_test, self.Y_predict)\n",
    "        # print(\"Mean K-fold R^2 score:\", self.mean_score)\n",
    "        # print(\"Overall R^2 score:\", self.r2)\n",
    "        # return(self.mean_score, self.r2)"
   ]
  },
  {
   "cell_type": "code",
   "execution_count": null,
   "metadata": {},
   "outputs": [],
   "source": [
    "linear_model = create_model(LinearRegression(), 0.1, X, Y, n_splits=5)"
   ]
  },
  {
   "cell_type": "code",
   "execution_count": null,
   "metadata": {},
   "outputs": [],
   "source": [
    "def mean_score(num: int, model: str):\n",
    "    for number in range(num):\n",
    "        model.model()\n",
    "        model.score()\n",
    "        yield model.mean_score, model.r2, model.rmse"
   ]
  },
  {
   "cell_type": "code",
   "execution_count": null,
   "metadata": {},
   "outputs": [],
   "source": [
    "linear_yield = mean_score(100, linear_model)"
   ]
  },
  {
   "cell_type": "code",
   "execution_count": null,
   "metadata": {},
   "outputs": [],
   "source": [
    "df_linear = pd.DataFrame(linear_yield)\n",
    "df_linear.columns = ['Mean_K-fold_R^2_score', 'Overall_R^2_score', 'root_mean_squared_error']"
   ]
  },
  {
   "cell_type": "code",
   "execution_count": null,
   "metadata": {},
   "outputs": [],
   "source": [
    "df_linear.head()"
   ]
  },
  {
   "cell_type": "code",
   "execution_count": null,
   "metadata": {},
   "outputs": [],
   "source": [
    "df_linear.describe()"
   ]
  },
  {
   "attachments": {},
   "cell_type": "markdown",
   "metadata": {},
   "source": [
    "The Overall R^2 score is slightly higher than the Mean K-fold R^2 score, suggested that the model is performing well on the test set as well as on the training set. It indicates that the model has learned to generalize well to new data, which is a desirable quality in a model."
   ]
  },
  {
   "cell_type": "code",
   "execution_count": null,
   "metadata": {},
   "outputs": [],
   "source": [
    "def hist_kfold_r2score(kfold, r2score, w):\n",
    "    fig, axs = plt.subplots(1, 2, tight_layout=True)\n",
    "\n",
    "    axs[0].hist(kfold, edgecolor='black', bins=np.arange(min(kfold), max(kfold) + w, w))\n",
    "    axs[0].set_xlabel('Mean K-fold R^2 score')\n",
    "    axs[0].set_ylabel('Frequency')\n",
    "    axs[0].set_xlim([0, 1])\n",
    "\n",
    "    axs[1].hist(r2score, edgecolor='black', bins=np.arange(min(r2score), max(r2score) + w, w))\n",
    "    axs[1].set_xlabel('Overall R^2 score')\n",
    "    axs[1].set_ylabel('Frequency')\n",
    "    axs[1].set_xlim([0, 1])"
   ]
  },
  {
   "cell_type": "code",
   "execution_count": null,
   "metadata": {},
   "outputs": [],
   "source": [
    "kfold = df_linear['Mean_K-fold_R^2_score']\n",
    "r2score = df_linear['Overall_R^2_score']\n",
    "hist_kfold_r2score(kfold, r2score, 0.05)"
   ]
  },
  {
   "cell_type": "code",
   "execution_count": null,
   "metadata": {},
   "outputs": [],
   "source": [
    "mean_squared_error_score = df_linear['root_mean_squared_error']\n",
    "mean_error_score = df_linear['mean_error']\n",
    "hist_kfold_r2score(mean_squared_error_score, mean_error_score, 0.05)"
   ]
  },
  {
   "cell_type": "code",
   "execution_count": null,
   "metadata": {},
   "outputs": [],
   "source": [
    "from sklearn.tree import DecisionTreeRegressor"
   ]
  },
  {
   "cell_type": "code",
   "execution_count": null,
   "metadata": {},
   "outputs": [],
   "source": [
    "decision_tree_model = create_model(DecisionTreeRegressor(), 0.1, X, Y, n_splits=5)\n",
    "tree_yield = mean_score(100, decision_tree_model)\n",
    "df_tree = pd.DataFrame(tree_yield)\n",
    "df_tree.columns = ['Mean_K-fold_R^2_score', 'Overall_R^2_score']"
   ]
  },
  {
   "cell_type": "code",
   "execution_count": null,
   "metadata": {},
   "outputs": [],
   "source": [
    "df_tree.head()"
   ]
  },
  {
   "cell_type": "code",
   "execution_count": null,
   "metadata": {},
   "outputs": [],
   "source": [
    "df_tree.describe()"
   ]
  },
  {
   "cell_type": "code",
   "execution_count": null,
   "metadata": {},
   "outputs": [],
   "source": [
    "kfold = df_tree['Mean_K-fold_R^2_score']\n",
    "r2score = df_tree['Overall_R^2_score']\n",
    "hist_kfold_r2score(kfold, r2score, 0.05)"
   ]
  },
  {
   "cell_type": "code",
   "execution_count": null,
   "metadata": {},
   "outputs": [],
   "source": [
    "mean_squared_error_score = df_tree['mean_squared_error']\n",
    "mean_error_score = df_tree['mean_error']\n",
    "hist_kfold_r2score(mean_squared_error_score, mean_error_score, 0.05)"
   ]
  },
  {
   "cell_type": "code",
   "execution_count": null,
   "metadata": {},
   "outputs": [],
   "source": [
    "from sklearn.ensemble import RandomForestRegressor"
   ]
  },
  {
   "cell_type": "code",
   "execution_count": null,
   "metadata": {},
   "outputs": [],
   "source": [
    "forest_model = create_model(RandomForestRegressor(), 0.1, X, Y, n_splits=5)\n",
    "forest_yield = mean_score(100, forest_model)\n",
    "df_forest = pd.DataFrame(forest_yield)\n",
    "df_forest.columns = ['Mean_K-fold_R^2_score', 'Overall_R^2_score']"
   ]
  },
  {
   "cell_type": "code",
   "execution_count": null,
   "metadata": {},
   "outputs": [],
   "source": [
    "df_forest.head()"
   ]
  },
  {
   "cell_type": "code",
   "execution_count": null,
   "metadata": {},
   "outputs": [],
   "source": [
    "df_forest.describe()"
   ]
  },
  {
   "cell_type": "code",
   "execution_count": null,
   "metadata": {},
   "outputs": [],
   "source": [
    "kfold = df_forest['Mean_K-fold_R^2_score']\n",
    "r2score = df_forest['Overall_R^2_score']\n",
    "hist_kfold_r2score(kfold, r2score, 0.03)"
   ]
  },
  {
   "cell_type": "code",
   "execution_count": null,
   "metadata": {},
   "outputs": [],
   "source": [
    "mean_squared_error_score = df_forest['mean_squared_error']\n",
    "mean_error_score = df_forest['mean_error']\n",
    "hist_kfold_r2score(mean_squared_error_score, mean_error_score, 0.05)"
   ]
  },
  {
   "cell_type": "code",
   "execution_count": null,
   "metadata": {},
   "outputs": [],
   "source": [
    "from sklearn.ensemble import GradientBoostingRegressor"
   ]
  },
  {
   "cell_type": "code",
   "execution_count": null,
   "metadata": {},
   "outputs": [],
   "source": [
    "xg_model = create_model(GradientBoostingRegressor(), 0.1, X, Y, n_splits = 5)\n",
    "xg_yield = mean_score(100, xg_model)\n",
    "df_xg = pd.DataFrame(xg_yield)\n",
    "df_xg.columns = ['Mean_K-fold_R^2_score', 'Overall_R^2_score']"
   ]
  },
  {
   "cell_type": "code",
   "execution_count": null,
   "metadata": {},
   "outputs": [],
   "source": [
    "df_xg.head()"
   ]
  },
  {
   "cell_type": "code",
   "execution_count": null,
   "metadata": {},
   "outputs": [],
   "source": [
    "df_xg.describe"
   ]
  },
  {
   "cell_type": "code",
   "execution_count": null,
   "metadata": {},
   "outputs": [],
   "source": [
    "kfold = df_xg['Mean_K-fold_R^2_score']\n",
    "r2score = df_xg['Overall_R^2_score']\n",
    "hist_kfold_r2score(kfold, r2score, 0.05)"
   ]
  },
  {
   "cell_type": "code",
   "execution_count": null,
   "metadata": {},
   "outputs": [],
   "source": [
    "mean_squared_error_score = df_xg['mean_squared_error']\n",
    "mean_error_score = df_xg['mean_error']\n",
    "hist_kfold_r2score(mean_squared_error_score, mean_error_score, 0.05)"
   ]
  }
 ],
 "metadata": {
  "kernelspec": {
   "display_name": "base",
   "language": "python",
   "name": "python3"
  },
  "language_info": {
   "codemirror_mode": {
    "name": "ipython",
    "version": 3
   },
   "file_extension": ".py",
   "mimetype": "text/x-python",
   "name": "python",
   "nbconvert_exporter": "python",
   "pygments_lexer": "ipython3",
   "version": "3.9.13"
  },
  "orig_nbformat": 4,
  "vscode": {
   "interpreter": {
    "hash": "2fffb9416fef0f14d8c3180827823918a8a81fff6ed4e50b546e97970237eb04"
   }
  }
 },
 "nbformat": 4,
 "nbformat_minor": 2
}
