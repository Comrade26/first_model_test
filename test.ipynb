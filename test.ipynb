{
 "cells": [
  {
   "cell_type": "code",
   "execution_count": 1,
   "metadata": {},
   "outputs": [],
   "source": [
    "import pandas as pd\n",
    "import warnings\n",
    "warnings.filterwarnings('ignore')\n",
    "import numpy as np\n",
    "import matplotlib.pyplot as plt"
   ]
  },
  {
   "cell_type": "code",
   "execution_count": 2,
   "metadata": {},
   "outputs": [],
   "source": [
    "df = pd.read_csv(\"https://raw.githubusercontent.com/prasertcbs/basic-dataset/master/usedcars_with_missing_values.csv\")"
   ]
  },
  {
   "cell_type": "code",
   "execution_count": 3,
   "metadata": {},
   "outputs": [],
   "source": [
    "df['year'] = df['year'].astype('category')"
   ]
  },
  {
   "cell_type": "code",
   "execution_count": 4,
   "metadata": {},
   "outputs": [
    {
     "data": {
      "text/html": [
       "<div>\n",
       "<style scoped>\n",
       "    .dataframe tbody tr th:only-of-type {\n",
       "        vertical-align: middle;\n",
       "    }\n",
       "\n",
       "    .dataframe tbody tr th {\n",
       "        vertical-align: top;\n",
       "    }\n",
       "\n",
       "    .dataframe thead th {\n",
       "        text-align: right;\n",
       "    }\n",
       "</style>\n",
       "<table border=\"1\" class=\"dataframe\">\n",
       "  <thead>\n",
       "    <tr style=\"text-align: right;\">\n",
       "      <th></th>\n",
       "      <th>year</th>\n",
       "      <th>model</th>\n",
       "      <th>price</th>\n",
       "      <th>mileage</th>\n",
       "      <th>color</th>\n",
       "      <th>transmission</th>\n",
       "    </tr>\n",
       "  </thead>\n",
       "  <tbody>\n",
       "    <tr>\n",
       "      <th>0</th>\n",
       "      <td>2011</td>\n",
       "      <td>NaN</td>\n",
       "      <td>21992.0</td>\n",
       "      <td>7413.0</td>\n",
       "      <td>Yellow</td>\n",
       "      <td>AUTO</td>\n",
       "    </tr>\n",
       "    <tr>\n",
       "      <th>1</th>\n",
       "      <td>2011</td>\n",
       "      <td>SEL</td>\n",
       "      <td>20995.0</td>\n",
       "      <td>10926.0</td>\n",
       "      <td>Gray</td>\n",
       "      <td>AUTO</td>\n",
       "    </tr>\n",
       "    <tr>\n",
       "      <th>2</th>\n",
       "      <td>2011</td>\n",
       "      <td>SEL</td>\n",
       "      <td>19995.0</td>\n",
       "      <td>7351.0</td>\n",
       "      <td>Silver</td>\n",
       "      <td>AUTO</td>\n",
       "    </tr>\n",
       "    <tr>\n",
       "      <th>3</th>\n",
       "      <td>2011</td>\n",
       "      <td>SEL</td>\n",
       "      <td>17809.0</td>\n",
       "      <td>11613.0</td>\n",
       "      <td>Gray</td>\n",
       "      <td>AUTO</td>\n",
       "    </tr>\n",
       "    <tr>\n",
       "      <th>4</th>\n",
       "      <td>2012</td>\n",
       "      <td>SE</td>\n",
       "      <td>17500.0</td>\n",
       "      <td>8367.0</td>\n",
       "      <td>White</td>\n",
       "      <td>AUTO</td>\n",
       "    </tr>\n",
       "    <tr>\n",
       "      <th>...</th>\n",
       "      <td>...</td>\n",
       "      <td>...</td>\n",
       "      <td>...</td>\n",
       "      <td>...</td>\n",
       "      <td>...</td>\n",
       "      <td>...</td>\n",
       "    </tr>\n",
       "    <tr>\n",
       "      <th>145</th>\n",
       "      <td>2006</td>\n",
       "      <td>SES</td>\n",
       "      <td>6200.0</td>\n",
       "      <td>95000.0</td>\n",
       "      <td>Silver</td>\n",
       "      <td>AUTO</td>\n",
       "    </tr>\n",
       "    <tr>\n",
       "      <th>146</th>\n",
       "      <td>2002</td>\n",
       "      <td>SE</td>\n",
       "      <td>5995.0</td>\n",
       "      <td>87003.0</td>\n",
       "      <td>Red</td>\n",
       "      <td>AUTO</td>\n",
       "    </tr>\n",
       "    <tr>\n",
       "      <th>147</th>\n",
       "      <td>2000</td>\n",
       "      <td>SE</td>\n",
       "      <td>5980.0</td>\n",
       "      <td>96841.0</td>\n",
       "      <td>Red</td>\n",
       "      <td>AUTO</td>\n",
       "    </tr>\n",
       "    <tr>\n",
       "      <th>148</th>\n",
       "      <td>2001</td>\n",
       "      <td>SE</td>\n",
       "      <td>4899.0</td>\n",
       "      <td>151479.0</td>\n",
       "      <td>Yellow</td>\n",
       "      <td>AUTO</td>\n",
       "    </tr>\n",
       "    <tr>\n",
       "      <th>149</th>\n",
       "      <td>2000</td>\n",
       "      <td>SE</td>\n",
       "      <td>3800.0</td>\n",
       "      <td>109259.0</td>\n",
       "      <td>Red</td>\n",
       "      <td>AUTO</td>\n",
       "    </tr>\n",
       "  </tbody>\n",
       "</table>\n",
       "<p>150 rows × 6 columns</p>\n",
       "</div>"
      ],
      "text/plain": [
       "     year model    price   mileage   color transmission\n",
       "0    2011   NaN  21992.0    7413.0  Yellow         AUTO\n",
       "1    2011   SEL  20995.0   10926.0    Gray         AUTO\n",
       "2    2011   SEL  19995.0    7351.0  Silver         AUTO\n",
       "3    2011   SEL  17809.0   11613.0    Gray         AUTO\n",
       "4    2012    SE  17500.0    8367.0   White         AUTO\n",
       "..    ...   ...      ...       ...     ...          ...\n",
       "145  2006   SES   6200.0   95000.0  Silver         AUTO\n",
       "146  2002    SE   5995.0   87003.0     Red         AUTO\n",
       "147  2000    SE   5980.0   96841.0     Red         AUTO\n",
       "148  2001    SE   4899.0  151479.0  Yellow         AUTO\n",
       "149  2000    SE   3800.0  109259.0     Red         AUTO\n",
       "\n",
       "[150 rows x 6 columns]"
      ]
     },
     "execution_count": 4,
     "metadata": {},
     "output_type": "execute_result"
    }
   ],
   "source": [
    "df"
   ]
  },
  {
   "attachments": {},
   "cell_type": "markdown",
   "metadata": {},
   "source": [
    "## Clean data"
   ]
  },
  {
   "cell_type": "code",
   "execution_count": 5,
   "metadata": {},
   "outputs": [],
   "source": [
    "from sklearn.model_selection import train_test_split, KFold\n",
    "from sklearn.linear_model import LinearRegression\n",
    "from sklearn.metrics import mean_absolute_error, mean_squared_error, r2_score"
   ]
  },
  {
   "cell_type": "code",
   "execution_count": 6,
   "metadata": {},
   "outputs": [],
   "source": [
    "df_dummy = pd.get_dummies(df)\n",
    "df_dummy = df_dummy.dropna()\n",
    "df_dummy = df_dummy.reset_index(drop = True)"
   ]
  },
  {
   "cell_type": "code",
   "execution_count": 7,
   "metadata": {},
   "outputs": [],
   "source": [
    "outcomename = 'price'\n",
    "X = df_dummy.drop(columns = outcomename)\n",
    "Y = df_dummy[outcomename]"
   ]
  },
  {
   "cell_type": "code",
   "execution_count": 8,
   "metadata": {},
   "outputs": [],
   "source": [
    "class create_model:\n",
    "    def __init__(self, model_name, test_size, X, Y, n_splits=5):\n",
    "        self.model_name = model_name\n",
    "        self.test_size = test_size\n",
    "        self.X = X\n",
    "        self.Y = Y\n",
    "        self.n_splits = n_splits\n",
    "    \n",
    "    def model(self):\n",
    "        kf = KFold(n_splits = self.n_splits, shuffle = True)\n",
    "        scores = []\n",
    "        for train_index, test_index in kf.split(self.X):\n",
    "            self.X_train, self.X_test = self.X.values[train_index], self.X.values[test_index]\n",
    "            self.Y_train, self.Y_test = self.Y.values[train_index], self.Y.values[test_index]\n",
    "            self.model_name.fit(self.X_train, self.Y_train)\n",
    "            scores.append(self.model_name.score(self.X_test, self.Y_test))\n",
    "        self.mean_score = sum(scores) / self.n_splits\n",
    "        return self.model_name\n",
    "    \n",
    "    def r2_score(self):\n",
    "        self.Y_pred = self.model_name.predict(self.X)\n",
    "        self.r2 = r2_score(self.Y, self.Y_pred)\n",
    "        # print(\"Mean K-fold R^2 score:\", self.mean_score)\n",
    "        # print(\"Overall R^2 score:\", self.r2)\n",
    "        # return(self.mean_score, self.r2)"
   ]
  },
  {
   "cell_type": "code",
   "execution_count": 9,
   "metadata": {},
   "outputs": [],
   "source": [
    "linear_model = create_model(LinearRegression(), 0.1, X, Y, n_splits=5)"
   ]
  },
  {
   "cell_type": "code",
   "execution_count": 10,
   "metadata": {},
   "outputs": [],
   "source": [
    "def mean_score(num: int, model: str):\n",
    "    for number in range(num):\n",
    "        model.model()\n",
    "        model.r2_score()\n",
    "        yield model.mean_score, model.r2"
   ]
  },
  {
   "cell_type": "code",
   "execution_count": 11,
   "metadata": {},
   "outputs": [],
   "source": [
    "linear_yield = mean_score(1000, linear_model)"
   ]
  },
  {
   "cell_type": "code",
   "execution_count": 12,
   "metadata": {},
   "outputs": [],
   "source": [
    "df_linear = pd.DataFrame(linear_yield)\n",
    "df_linear.columns = ['Mean_K-fold_R^2_score', 'Overall_R^2_score']"
   ]
  },
  {
   "cell_type": "code",
   "execution_count": 13,
   "metadata": {},
   "outputs": [
    {
     "data": {
      "text/html": [
       "<div>\n",
       "<style scoped>\n",
       "    .dataframe tbody tr th:only-of-type {\n",
       "        vertical-align: middle;\n",
       "    }\n",
       "\n",
       "    .dataframe tbody tr th {\n",
       "        vertical-align: top;\n",
       "    }\n",
       "\n",
       "    .dataframe thead th {\n",
       "        text-align: right;\n",
       "    }\n",
       "</style>\n",
       "<table border=\"1\" class=\"dataframe\">\n",
       "  <thead>\n",
       "    <tr style=\"text-align: right;\">\n",
       "      <th></th>\n",
       "      <th>Mean_K-fold_R^2_score</th>\n",
       "      <th>Overall_R^2_score</th>\n",
       "    </tr>\n",
       "  </thead>\n",
       "  <tbody>\n",
       "    <tr>\n",
       "      <th>0</th>\n",
       "      <td>0.733256</td>\n",
       "      <td>0.864488</td>\n",
       "    </tr>\n",
       "    <tr>\n",
       "      <th>1</th>\n",
       "      <td>0.700704</td>\n",
       "      <td>0.866245</td>\n",
       "    </tr>\n",
       "    <tr>\n",
       "      <th>2</th>\n",
       "      <td>0.710541</td>\n",
       "      <td>0.842231</td>\n",
       "    </tr>\n",
       "    <tr>\n",
       "      <th>3</th>\n",
       "      <td>0.694061</td>\n",
       "      <td>0.851944</td>\n",
       "    </tr>\n",
       "    <tr>\n",
       "      <th>4</th>\n",
       "      <td>0.676464</td>\n",
       "      <td>0.864467</td>\n",
       "    </tr>\n",
       "  </tbody>\n",
       "</table>\n",
       "</div>"
      ],
      "text/plain": [
       "   Mean_K-fold_R^2_score  Overall_R^2_score\n",
       "0               0.733256           0.864488\n",
       "1               0.700704           0.866245\n",
       "2               0.710541           0.842231\n",
       "3               0.694061           0.851944\n",
       "4               0.676464           0.864467"
      ]
     },
     "execution_count": 13,
     "metadata": {},
     "output_type": "execute_result"
    }
   ],
   "source": [
    "df_linear.head()"
   ]
  },
  {
   "cell_type": "code",
   "execution_count": 30,
   "metadata": {},
   "outputs": [
    {
     "data": {
      "text/html": [
       "<div>\n",
       "<style scoped>\n",
       "    .dataframe tbody tr th:only-of-type {\n",
       "        vertical-align: middle;\n",
       "    }\n",
       "\n",
       "    .dataframe tbody tr th {\n",
       "        vertical-align: top;\n",
       "    }\n",
       "\n",
       "    .dataframe thead th {\n",
       "        text-align: right;\n",
       "    }\n",
       "</style>\n",
       "<table border=\"1\" class=\"dataframe\">\n",
       "  <thead>\n",
       "    <tr style=\"text-align: right;\">\n",
       "      <th></th>\n",
       "      <th>Mean_K-fold_R^2_score</th>\n",
       "      <th>Overall_R^2_score</th>\n",
       "    </tr>\n",
       "  </thead>\n",
       "  <tbody>\n",
       "    <tr>\n",
       "      <th>count</th>\n",
       "      <td>1000.000000</td>\n",
       "      <td>1000.000000</td>\n",
       "    </tr>\n",
       "    <tr>\n",
       "      <th>mean</th>\n",
       "      <td>0.685592</td>\n",
       "      <td>0.848444</td>\n",
       "    </tr>\n",
       "    <tr>\n",
       "      <th>std</th>\n",
       "      <td>0.035401</td>\n",
       "      <td>0.016339</td>\n",
       "    </tr>\n",
       "    <tr>\n",
       "      <th>min</th>\n",
       "      <td>0.479371</td>\n",
       "      <td>0.767975</td>\n",
       "    </tr>\n",
       "    <tr>\n",
       "      <th>25%</th>\n",
       "      <td>0.667241</td>\n",
       "      <td>0.840015</td>\n",
       "    </tr>\n",
       "    <tr>\n",
       "      <th>50%</th>\n",
       "      <td>0.688827</td>\n",
       "      <td>0.851253</td>\n",
       "    </tr>\n",
       "    <tr>\n",
       "      <th>75%</th>\n",
       "      <td>0.708680</td>\n",
       "      <td>0.860923</td>\n",
       "    </tr>\n",
       "    <tr>\n",
       "      <th>max</th>\n",
       "      <td>0.775112</td>\n",
       "      <td>0.872645</td>\n",
       "    </tr>\n",
       "  </tbody>\n",
       "</table>\n",
       "</div>"
      ],
      "text/plain": [
       "       Mean_K-fold_R^2_score  Overall_R^2_score\n",
       "count            1000.000000        1000.000000\n",
       "mean                0.685592           0.848444\n",
       "std                 0.035401           0.016339\n",
       "min                 0.479371           0.767975\n",
       "25%                 0.667241           0.840015\n",
       "50%                 0.688827           0.851253\n",
       "75%                 0.708680           0.860923\n",
       "max                 0.775112           0.872645"
      ]
     },
     "execution_count": 30,
     "metadata": {},
     "output_type": "execute_result"
    }
   ],
   "source": [
    "df_linear.describe()"
   ]
  },
  {
   "attachments": {},
   "cell_type": "markdown",
   "metadata": {},
   "source": [
    "The Overall R^2 score is slightly higher than the Mean K-fold R^2 score, suggested that the model is performing well on the test set as well as on the training set. It indicates that the model has learned to generalize well to new data, which is a desirable quality in a model."
   ]
  },
  {
   "cell_type": "code",
   "execution_count": 15,
   "metadata": {},
   "outputs": [
    {
     "data": {
      "image/png": "[encoded data removed]",
      "text/plain": [
       "<Figure size 640x480 with 2 Axes>"
      ]
     },
     "metadata": {},
     "output_type": "display_data"
    }
   ],
   "source": [
    "def hist_kfold_r2score(kfold, r2score, w):\n",
    "    fig, axs = plt.subplots(1, 2, tight_layout=True)\n",
    "\n",
    "    axs[0].hist(kfold, edgecolor='black', bins=np.arange(min(kfold), max(kfold) + w, w))\n",
    "    axs[0].set_xlabel('Mean K-fold R^2 score')\n",
    "    axs[0].set_ylabel('Frequency')\n",
    "    axs[0].set_xlim([0, 1])\n",
    "\n",
    "    axs[1].hist(r2score, edgecolor='black', bins=np.arange(min(r2score), max(r2score) + w, w))\n",
    "    axs[1].set_xlabel('Overall R^2 score')\n",
    "    axs[1].set_ylabel('Frequency')\n",
    "    axs[1].set_xlim([0, 1])\n",
    "\n",
    "\n",
    "kfold = df_linear['Mean_K-fold_R^2_score']\n",
    "r2score = df_linear['Overall_R^2_score']\n",
    "hist_kfold_r2score(kfold, r2score, 0.05)"
   ]
  },
  {
   "cell_type": "code",
   "execution_count": 16,
   "metadata": {},
   "outputs": [],
   "source": [
    "from sklearn.tree import DecisionTreeRegressor"
   ]
  },
  {
   "cell_type": "code",
   "execution_count": 17,
   "metadata": {},
   "outputs": [],
   "source": [
    "decision_tree_model = create_model(DecisionTreeRegressor(), 0.1, X, Y, n_splits=5)\n",
    "tree_yield = mean_score(1000, decision_tree_model)\n",
    "df_tree = pd.DataFrame(tree_yield)\n",
    "df_tree.columns = ['Mean_K-fold_R^2_score', 'Overall_R^2_score']"
   ]
  },
  {
   "cell_type": "code",
   "execution_count": 18,
   "metadata": {},
   "outputs": [
    {
     "data": {
      "text/html": [
       "<div>\n",
       "<style scoped>\n",
       "    .dataframe tbody tr th:only-of-type {\n",
       "        vertical-align: middle;\n",
       "    }\n",
       "\n",
       "    .dataframe tbody tr th {\n",
       "        vertical-align: top;\n",
       "    }\n",
       "\n",
       "    .dataframe thead th {\n",
       "        text-align: right;\n",
       "    }\n",
       "</style>\n",
       "<table border=\"1\" class=\"dataframe\">\n",
       "  <thead>\n",
       "    <tr style=\"text-align: right;\">\n",
       "      <th></th>\n",
       "      <th>Mean_K-fold_R^2_score</th>\n",
       "      <th>Overall_R^2_score</th>\n",
       "    </tr>\n",
       "  </thead>\n",
       "  <tbody>\n",
       "    <tr>\n",
       "      <th>0</th>\n",
       "      <td>0.483900</td>\n",
       "      <td>0.906856</td>\n",
       "    </tr>\n",
       "    <tr>\n",
       "      <th>1</th>\n",
       "      <td>0.486536</td>\n",
       "      <td>0.914544</td>\n",
       "    </tr>\n",
       "    <tr>\n",
       "      <th>2</th>\n",
       "      <td>0.588511</td>\n",
       "      <td>0.889210</td>\n",
       "    </tr>\n",
       "    <tr>\n",
       "      <th>3</th>\n",
       "      <td>0.479864</td>\n",
       "      <td>0.895393</td>\n",
       "    </tr>\n",
       "    <tr>\n",
       "      <th>4</th>\n",
       "      <td>0.548470</td>\n",
       "      <td>0.890807</td>\n",
       "    </tr>\n",
       "  </tbody>\n",
       "</table>\n",
       "</div>"
      ],
      "text/plain": [
       "   Mean_K-fold_R^2_score  Overall_R^2_score\n",
       "0               0.483900           0.906856\n",
       "1               0.486536           0.914544\n",
       "2               0.588511           0.889210\n",
       "3               0.479864           0.895393\n",
       "4               0.548470           0.890807"
      ]
     },
     "execution_count": 18,
     "metadata": {},
     "output_type": "execute_result"
    }
   ],
   "source": [
    "df_tree.head()"
   ]
  },
  {
   "cell_type": "code",
   "execution_count": 29,
   "metadata": {},
   "outputs": [
    {
     "data": {
      "text/html": [
       "<div>\n",
       "<style scoped>\n",
       "    .dataframe tbody tr th:only-of-type {\n",
       "        vertical-align: middle;\n",
       "    }\n",
       "\n",
       "    .dataframe tbody tr th {\n",
       "        vertical-align: top;\n",
       "    }\n",
       "\n",
       "    .dataframe thead th {\n",
       "        text-align: right;\n",
       "    }\n",
       "</style>\n",
       "<table border=\"1\" class=\"dataframe\">\n",
       "  <thead>\n",
       "    <tr style=\"text-align: right;\">\n",
       "      <th></th>\n",
       "      <th>Mean_K-fold_R^2_score</th>\n",
       "      <th>Overall_R^2_score</th>\n",
       "    </tr>\n",
       "  </thead>\n",
       "  <tbody>\n",
       "    <tr>\n",
       "      <th>count</th>\n",
       "      <td>1000.000000</td>\n",
       "      <td>1000.000000</td>\n",
       "    </tr>\n",
       "    <tr>\n",
       "      <th>mean</th>\n",
       "      <td>0.476770</td>\n",
       "      <td>0.904849</td>\n",
       "    </tr>\n",
       "    <tr>\n",
       "      <th>std</th>\n",
       "      <td>0.074108</td>\n",
       "      <td>0.030918</td>\n",
       "    </tr>\n",
       "    <tr>\n",
       "      <th>min</th>\n",
       "      <td>0.093074</td>\n",
       "      <td>0.783371</td>\n",
       "    </tr>\n",
       "    <tr>\n",
       "      <th>25%</th>\n",
       "      <td>0.437494</td>\n",
       "      <td>0.887855</td>\n",
       "    </tr>\n",
       "    <tr>\n",
       "      <th>50%</th>\n",
       "      <td>0.483721</td>\n",
       "      <td>0.909788</td>\n",
       "    </tr>\n",
       "    <tr>\n",
       "      <th>75%</th>\n",
       "      <td>0.527409</td>\n",
       "      <td>0.927604</td>\n",
       "    </tr>\n",
       "    <tr>\n",
       "      <th>max</th>\n",
       "      <td>0.644293</td>\n",
       "      <td>0.968825</td>\n",
       "    </tr>\n",
       "  </tbody>\n",
       "</table>\n",
       "</div>"
      ],
      "text/plain": [
       "       Mean_K-fold_R^2_score  Overall_R^2_score\n",
       "count            1000.000000        1000.000000\n",
       "mean                0.476770           0.904849\n",
       "std                 0.074108           0.030918\n",
       "min                 0.093074           0.783371\n",
       "25%                 0.437494           0.887855\n",
       "50%                 0.483721           0.909788\n",
       "75%                 0.527409           0.927604\n",
       "max                 0.644293           0.968825"
      ]
     },
     "execution_count": 29,
     "metadata": {},
     "output_type": "execute_result"
    }
   ],
   "source": [
    "df_tree.describe()"
   ]
  },
  {
   "cell_type": "code",
   "execution_count": 20,
   "metadata": {},
   "outputs": [
    {
     "data": {
      "image/png": "[encoded data removed]",
      "text/plain": [
       "<Figure size 640x480 with 2 Axes>"
      ]
     },
     "metadata": {},
     "output_type": "display_data"
    }
   ],
   "source": [
    "kfold = df_tree['Mean_K-fold_R^2_score']\n",
    "r2score = df_tree['Overall_R^2_score']\n",
    "hist_kfold_r2score(kfold, r2score, 0.05)"
   ]
  },
  {
   "cell_type": "code",
   "execution_count": 21,
   "metadata": {},
   "outputs": [],
   "source": [
    "from sklearn.ensemble import RandomForestRegressor"
   ]
  },
  {
   "cell_type": "code",
   "execution_count": 22,
   "metadata": {},
   "outputs": [],
   "source": [
    "forest_model = create_model(RandomForestRegressor(), 0.1, X, Y, n_splits=5)\n",
    "forest_yield = mean_score(100, forest_model)\n",
    "df_forest = pd.DataFrame(forest_yield)\n",
    "df_forest.columns = ['Mean_K-fold_R^2_score', 'Overall_R^2_score']"
   ]
  },
  {
   "cell_type": "code",
   "execution_count": 23,
   "metadata": {},
   "outputs": [
    {
     "data": {
      "text/html": [
       "<div>\n",
       "<style scoped>\n",
       "    .dataframe tbody tr th:only-of-type {\n",
       "        vertical-align: middle;\n",
       "    }\n",
       "\n",
       "    .dataframe tbody tr th {\n",
       "        vertical-align: top;\n",
       "    }\n",
       "\n",
       "    .dataframe thead th {\n",
       "        text-align: right;\n",
       "    }\n",
       "</style>\n",
       "<table border=\"1\" class=\"dataframe\">\n",
       "  <thead>\n",
       "    <tr style=\"text-align: right;\">\n",
       "      <th></th>\n",
       "      <th>Mean_K-fold_R^2_score</th>\n",
       "      <th>Overall_R^2_score</th>\n",
       "    </tr>\n",
       "  </thead>\n",
       "  <tbody>\n",
       "    <tr>\n",
       "      <th>0</th>\n",
       "      <td>0.644727</td>\n",
       "      <td>0.915516</td>\n",
       "    </tr>\n",
       "    <tr>\n",
       "      <th>1</th>\n",
       "      <td>0.682805</td>\n",
       "      <td>0.888255</td>\n",
       "    </tr>\n",
       "    <tr>\n",
       "      <th>2</th>\n",
       "      <td>0.693655</td>\n",
       "      <td>0.917834</td>\n",
       "    </tr>\n",
       "    <tr>\n",
       "      <th>3</th>\n",
       "      <td>0.656762</td>\n",
       "      <td>0.926349</td>\n",
       "    </tr>\n",
       "    <tr>\n",
       "      <th>4</th>\n",
       "      <td>0.726271</td>\n",
       "      <td>0.917801</td>\n",
       "    </tr>\n",
       "  </tbody>\n",
       "</table>\n",
       "</div>"
      ],
      "text/plain": [
       "   Mean_K-fold_R^2_score  Overall_R^2_score\n",
       "0               0.644727           0.915516\n",
       "1               0.682805           0.888255\n",
       "2               0.693655           0.917834\n",
       "3               0.656762           0.926349\n",
       "4               0.726271           0.917801"
      ]
     },
     "execution_count": 23,
     "metadata": {},
     "output_type": "execute_result"
    }
   ],
   "source": [
    "df_forest.head()"
   ]
  },
  {
   "cell_type": "code",
   "execution_count": 24,
   "metadata": {},
   "outputs": [
    {
     "data": {
      "text/html": [
       "<div>\n",
       "<style scoped>\n",
       "    .dataframe tbody tr th:only-of-type {\n",
       "        vertical-align: middle;\n",
       "    }\n",
       "\n",
       "    .dataframe tbody tr th {\n",
       "        vertical-align: top;\n",
       "    }\n",
       "\n",
       "    .dataframe thead th {\n",
       "        text-align: right;\n",
       "    }\n",
       "</style>\n",
       "<table border=\"1\" class=\"dataframe\">\n",
       "  <thead>\n",
       "    <tr style=\"text-align: right;\">\n",
       "      <th></th>\n",
       "      <th>Mean_K-fold_R^2_score</th>\n",
       "      <th>Overall_R^2_score</th>\n",
       "    </tr>\n",
       "  </thead>\n",
       "  <tbody>\n",
       "    <tr>\n",
       "      <th>count</th>\n",
       "      <td>100.000000</td>\n",
       "      <td>100.000000</td>\n",
       "    </tr>\n",
       "    <tr>\n",
       "      <th>mean</th>\n",
       "      <td>0.686816</td>\n",
       "      <td>0.908083</td>\n",
       "    </tr>\n",
       "    <tr>\n",
       "      <th>std</th>\n",
       "      <td>0.027469</td>\n",
       "      <td>0.017540</td>\n",
       "    </tr>\n",
       "    <tr>\n",
       "      <th>min</th>\n",
       "      <td>0.600327</td>\n",
       "      <td>0.857996</td>\n",
       "    </tr>\n",
       "    <tr>\n",
       "      <th>25%</th>\n",
       "      <td>0.670634</td>\n",
       "      <td>0.895386</td>\n",
       "    </tr>\n",
       "    <tr>\n",
       "      <th>50%</th>\n",
       "      <td>0.691418</td>\n",
       "      <td>0.909656</td>\n",
       "    </tr>\n",
       "    <tr>\n",
       "      <th>75%</th>\n",
       "      <td>0.705844</td>\n",
       "      <td>0.921593</td>\n",
       "    </tr>\n",
       "    <tr>\n",
       "      <th>max</th>\n",
       "      <td>0.749547</td>\n",
       "      <td>0.940107</td>\n",
       "    </tr>\n",
       "  </tbody>\n",
       "</table>\n",
       "</div>"
      ],
      "text/plain": [
       "       Mean_K-fold_R^2_score  Overall_R^2_score\n",
       "count             100.000000         100.000000\n",
       "mean                0.686816           0.908083\n",
       "std                 0.027469           0.017540\n",
       "min                 0.600327           0.857996\n",
       "25%                 0.670634           0.895386\n",
       "50%                 0.691418           0.909656\n",
       "75%                 0.705844           0.921593\n",
       "max                 0.749547           0.940107"
      ]
     },
     "execution_count": 24,
     "metadata": {},
     "output_type": "execute_result"
    }
   ],
   "source": [
    "df_forest.describe()"
   ]
  },
  {
   "cell_type": "code",
   "execution_count": 28,
   "metadata": {},
   "outputs": [
    {
     "data": {
      "image/png": "[encoded data removed]",
      "text/plain": [
       "<Figure size 640x480 with 2 Axes>"
      ]
     },
     "metadata": {},
     "output_type": "display_data"
    }
   ],
   "source": [
    "kfold = df_forest['Mean_K-fold_R^2_score']\n",
    "r2score = df_forest['Overall_R^2_score']\n",
    "hist_kfold_r2score(kfold, r2score, 0.03)"
   ]
  }
 ],
 "metadata": {
  "kernelspec": {
   "display_name": "base",
   "language": "python",
   "name": "python3"
  },
  "language_info": {
   "codemirror_mode": {
    "name": "ipython",
    "version": 3
   },
   "file_extension": ".py",
   "mimetype": "text/x-python",
   "name": "python",
   "nbconvert_exporter": "python",
   "pygments_lexer": "ipython3",
   "version": "3.9.13"
  },
  "orig_nbformat": 4,
  "vscode": {
   "interpreter": {
    "hash": "2fffb9416fef0f14d8c3180827823918a8a81fff6ed4e50b546e97970237eb04"
   }
  }
 },
 "nbformat": 4,
 "nbformat_minor": 2
}
