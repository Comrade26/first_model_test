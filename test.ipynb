{
 "cells": [
  {
   "cell_type": "code",
   "execution_count": 1,
   "metadata": {},
   "outputs": [],
   "source": [
    "import pandas as pd"
   ]
  },
  {
   "cell_type": "code",
   "execution_count": 2,
   "metadata": {},
   "outputs": [],
   "source": [
    "df = pd.read_csv(\"https://raw.githubusercontent.com/prasertcbs/basic-dataset/master/usedcars_with_missing_values.csv\")"
   ]
  },
  {
   "cell_type": "code",
   "execution_count": 3,
   "metadata": {},
   "outputs": [],
   "source": [
    "df['year'] = df['year'].astype('category')"
   ]
  },
  {
   "cell_type": "code",
   "execution_count": 4,
   "metadata": {},
   "outputs": [
    {
     "data": {
      "text/html": [
       "<div>\n",
       "<style scoped>\n",
       "    .dataframe tbody tr th:only-of-type {\n",
       "        vertical-align: middle;\n",
       "    }\n",
       "\n",
       "    .dataframe tbody tr th {\n",
       "        vertical-align: top;\n",
       "    }\n",
       "\n",
       "    .dataframe thead th {\n",
       "        text-align: right;\n",
       "    }\n",
       "</style>\n",
       "<table border=\"1\" class=\"dataframe\">\n",
       "  <thead>\n",
       "    <tr style=\"text-align: right;\">\n",
       "      <th></th>\n",
       "      <th>year</th>\n",
       "      <th>model</th>\n",
       "      <th>price</th>\n",
       "      <th>mileage</th>\n",
       "      <th>color</th>\n",
       "      <th>transmission</th>\n",
       "    </tr>\n",
       "  </thead>\n",
       "  <tbody>\n",
       "    <tr>\n",
       "      <th>0</th>\n",
       "      <td>2011</td>\n",
       "      <td>NaN</td>\n",
       "      <td>21992.0</td>\n",
       "      <td>7413.0</td>\n",
       "      <td>Yellow</td>\n",
       "      <td>AUTO</td>\n",
       "    </tr>\n",
       "    <tr>\n",
       "      <th>1</th>\n",
       "      <td>2011</td>\n",
       "      <td>SEL</td>\n",
       "      <td>20995.0</td>\n",
       "      <td>10926.0</td>\n",
       "      <td>Gray</td>\n",
       "      <td>AUTO</td>\n",
       "    </tr>\n",
       "    <tr>\n",
       "      <th>2</th>\n",
       "      <td>2011</td>\n",
       "      <td>SEL</td>\n",
       "      <td>19995.0</td>\n",
       "      <td>7351.0</td>\n",
       "      <td>Silver</td>\n",
       "      <td>AUTO</td>\n",
       "    </tr>\n",
       "    <tr>\n",
       "      <th>3</th>\n",
       "      <td>2011</td>\n",
       "      <td>SEL</td>\n",
       "      <td>17809.0</td>\n",
       "      <td>11613.0</td>\n",
       "      <td>Gray</td>\n",
       "      <td>AUTO</td>\n",
       "    </tr>\n",
       "    <tr>\n",
       "      <th>4</th>\n",
       "      <td>2012</td>\n",
       "      <td>SE</td>\n",
       "      <td>17500.0</td>\n",
       "      <td>8367.0</td>\n",
       "      <td>White</td>\n",
       "      <td>AUTO</td>\n",
       "    </tr>\n",
       "    <tr>\n",
       "      <th>...</th>\n",
       "      <td>...</td>\n",
       "      <td>...</td>\n",
       "      <td>...</td>\n",
       "      <td>...</td>\n",
       "      <td>...</td>\n",
       "      <td>...</td>\n",
       "    </tr>\n",
       "    <tr>\n",
       "      <th>145</th>\n",
       "      <td>2006</td>\n",
       "      <td>SES</td>\n",
       "      <td>6200.0</td>\n",
       "      <td>95000.0</td>\n",
       "      <td>Silver</td>\n",
       "      <td>AUTO</td>\n",
       "    </tr>\n",
       "    <tr>\n",
       "      <th>146</th>\n",
       "      <td>2002</td>\n",
       "      <td>SE</td>\n",
       "      <td>5995.0</td>\n",
       "      <td>87003.0</td>\n",
       "      <td>Red</td>\n",
       "      <td>AUTO</td>\n",
       "    </tr>\n",
       "    <tr>\n",
       "      <th>147</th>\n",
       "      <td>2000</td>\n",
       "      <td>SE</td>\n",
       "      <td>5980.0</td>\n",
       "      <td>96841.0</td>\n",
       "      <td>Red</td>\n",
       "      <td>AUTO</td>\n",
       "    </tr>\n",
       "    <tr>\n",
       "      <th>148</th>\n",
       "      <td>2001</td>\n",
       "      <td>SE</td>\n",
       "      <td>4899.0</td>\n",
       "      <td>151479.0</td>\n",
       "      <td>Yellow</td>\n",
       "      <td>AUTO</td>\n",
       "    </tr>\n",
       "    <tr>\n",
       "      <th>149</th>\n",
       "      <td>2000</td>\n",
       "      <td>SE</td>\n",
       "      <td>3800.0</td>\n",
       "      <td>109259.0</td>\n",
       "      <td>Red</td>\n",
       "      <td>AUTO</td>\n",
       "    </tr>\n",
       "  </tbody>\n",
       "</table>\n",
       "<p>150 rows × 6 columns</p>\n",
       "</div>"
      ],
      "text/plain": [
       "     year model    price   mileage   color transmission\n",
       "0    2011   NaN  21992.0    7413.0  Yellow         AUTO\n",
       "1    2011   SEL  20995.0   10926.0    Gray         AUTO\n",
       "2    2011   SEL  19995.0    7351.0  Silver         AUTO\n",
       "3    2011   SEL  17809.0   11613.0    Gray         AUTO\n",
       "4    2012    SE  17500.0    8367.0   White         AUTO\n",
       "..    ...   ...      ...       ...     ...          ...\n",
       "145  2006   SES   6200.0   95000.0  Silver         AUTO\n",
       "146  2002    SE   5995.0   87003.0     Red         AUTO\n",
       "147  2000    SE   5980.0   96841.0     Red         AUTO\n",
       "148  2001    SE   4899.0  151479.0  Yellow         AUTO\n",
       "149  2000    SE   3800.0  109259.0     Red         AUTO\n",
       "\n",
       "[150 rows x 6 columns]"
      ]
     },
     "execution_count": 4,
     "metadata": {},
     "output_type": "execute_result"
    }
   ],
   "source": [
    "df"
   ]
  },
  {
   "attachments": {},
   "cell_type": "markdown",
   "metadata": {},
   "source": [
    "## Clean data"
   ]
  },
  {
   "cell_type": "code",
   "execution_count": 5,
   "metadata": {},
   "outputs": [],
   "source": [
    "from sklearn.model_selection import train_test_split, KFold\n",
    "from sklearn.linear_model import LinearRegression\n",
    "from sklearn.metrics import mean_absolute_error, mean_squared_error, r2_score"
   ]
  },
  {
   "cell_type": "code",
   "execution_count": 6,
   "metadata": {},
   "outputs": [],
   "source": [
    "df_dummy = pd.get_dummies(df)\n",
    "df_dummy = df_dummy.dropna()\n",
    "df_dummy = df_dummy.reset_index(drop = True)"
   ]
  },
  {
   "cell_type": "code",
   "execution_count": 7,
   "metadata": {},
   "outputs": [],
   "source": [
    "outcomename = 'price'\n",
    "X = df_dummy.drop(columns = outcomename)\n",
    "Y = df_dummy[outcomename]"
   ]
  },
  {
   "cell_type": "code",
   "execution_count": 8,
   "metadata": {},
   "outputs": [],
   "source": [
    "# class create_model:\n",
    "#     def __init__(self, model_name, test_size, X, Y):\n",
    "#         self.model_name = model_name\n",
    "#         self.test_size = test_size\n",
    "#         self.X = X\n",
    "#         self.Y = Y\n",
    "    \n",
    "#     def model(self):\n",
    "#         self.model = self.model_name\n",
    "#         self.X_train, self.X_test, self.Y_train, self.Y_test = train_test_split(self.X, self.Y, test_size=self.test_size)\n",
    "#         return self.model.fit(self.X_train, self.Y_train)\n",
    "    \n",
    "#     def r2_score(self):\n",
    "#         print(self.model.score(self.X_test, self.Y_test))"
   ]
  },
  {
   "cell_type": "code",
   "execution_count": 9,
   "metadata": {},
   "outputs": [],
   "source": [
    "class create_model:\n",
    "    def __init__(self, model_name, test_size, X, Y, n_splits=5):\n",
    "        self.model_name = model_name\n",
    "        self.test_size = test_size\n",
    "        self.X = X\n",
    "        self.Y = Y\n",
    "        self.n_splits = n_splits\n",
    "    \n",
    "    def model(self):\n",
    "        kf = KFold(n_splits = self.n_splits, shuffle = True)\n",
    "        scores = []\n",
    "        for train_index, test_index in kf.split(self.X):\n",
    "            self.X_train, self.X_test = self.X.values[train_index], self.X.values[test_index]\n",
    "            self.Y_train, self.Y_test = self.Y.values[train_index], self.Y.values[test_index]\n",
    "            self.model_name.fit(self.X_train, self.Y_train)\n",
    "            scores.append(self.model_name.score(self.X_test, self.Y_test))\n",
    "        self.mean_score = sum(scores) / self.n_splits\n",
    "        return self.model_name\n",
    "    \n",
    "    def r2_score(self):\n",
    "        self.Y_pred = self.model_name.predict(self.X)\n",
    "        self.r2 = r2_score(self.Y, self.Y_pred)\n",
    "        # print(\"Mean K-fold R^2 score:\", self.mean_score)\n",
    "        # print(\"Overall R^2 score:\", self.r2)\n",
    "        # return(self.mean_score, self.r2)"
   ]
  },
  {
   "cell_type": "code",
   "execution_count": 10,
   "metadata": {},
   "outputs": [],
   "source": [
    "linear_model = create_model(LinearRegression(), 0.1, X, Y, n_splits=5)"
   ]
  },
  {
   "cell_type": "code",
   "execution_count": null,
   "metadata": {},
   "outputs": [],
   "source": [
    "kfold = []\n",
    "r2score = []\n",
    "for number in range(1000):\n",
    "    linear_model.model()\n",
    "    linear_model.r2_score()\n",
    "    kfold.append(linear_model.mean_score)\n",
    "    r2score.append(linear_model.r2)"
   ]
  },
  {
   "attachments": {},
   "cell_type": "markdown",
   "metadata": {},
   "source": [
    "The Overall R^2 score is slightly higher than the Mean K-fold R^2 score, suggested that the model is performing well on the test set as well as on the training set. It indicates that the model has learned to generalize well to new data, which is a desirable quality in a model."
   ]
  },
  {
   "cell_type": "code",
   "execution_count": 20,
   "metadata": {},
   "outputs": [
    {
     "data": {
      "text/plain": [
       "(0.0, 1.0)"
      ]
     },
     "execution_count": 20,
     "metadata": {},
     "output_type": "execute_result"
    },
    {
     "data": {
      "image/png": "[encoded data removed]",
      "text/plain": [
       "<Figure size 640x480 with 2 Axes>"
      ]
     },
     "metadata": {},
     "output_type": "display_data"
    }
   ],
   "source": [
    "import matplotlib.pyplot as plt\n",
    "import numpy as np\n",
    "# plt.hist(kfold, bins=30, range=(0, 1), alpha=0.5, color='green')\n",
    "w = 0.05\n",
    "\n",
    "fig, axs = plt.subplots(1, 2, tight_layout=True)\n",
    "\n",
    "axs[0].hist(kfold, edgecolor='black', bins=np.arange(min(kfold), max(kfold) + w, w))\n",
    "axs[0].set_xlabel('Mean K-fold R^2 score')\n",
    "axs[0].set_ylabel('Frequency')\n",
    "axs[0].set_xlim([0, 1])\n",
    "\n",
    "axs[1].hist(r2score, edgecolor='black', bins=np.arange(min(r2score), max(r2score) + w, w))\n",
    "axs[1].set_xlabel('Overall R^2 score')\n",
    "axs[1].set_ylabel('Frequency')\n",
    "axs[1].set_xlim([0, 1])"
   ]
  }
 ],
 "metadata": {
  "kernelspec": {
   "display_name": "base",
   "language": "python",
   "name": "python3"
  },
  "language_info": {
   "codemirror_mode": {
    "name": "ipython",
    "version": 3
   },
   "file_extension": ".py",
   "mimetype": "text/x-python",
   "name": "python",
   "nbconvert_exporter": "python",
   "pygments_lexer": "ipython3",
   "version": "3.9.16"
  },
  "orig_nbformat": 4,
  "vscode": {
   "interpreter": {
    "hash": "2fffb9416fef0f14d8c3180827823918a8a81fff6ed4e50b546e97970237eb04"
   }
  }
 },
 "nbformat": 4,
 "nbformat_minor": 2
}
